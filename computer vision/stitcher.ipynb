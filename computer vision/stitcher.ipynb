{
 "cells": [
  {
   "cell_type": "markdown",
   "metadata": {},
   "source": [
    "# OpenCV panorama stitching\n",
    "based on [this web](http://www.pyimagesearch.com/2016/01/11/opencv-panorama-stitching/)\n",
    "somewhere [else](http://answers.opencv.org/question/75905/stitch-images-with-opencv-3-contrib-and-python-27/)\n",
    "images [here](https://github.com/jjones646/pano-stitch)\n"
   ]
  },
  {
   "cell_type": "code",
   "execution_count": 1,
   "metadata": {},
   "outputs": [
    {
     "name": "stdout",
     "output_type": "stream",
     "text": [
      "bye!\n"
     ]
    }
   ],
   "source": [
    "import numpy as np\n",
    "import imutils\n",
    "import cv2\n",
    "\n",
    "# load images\n",
    "imageA = cv2.imread(\"images/grand_canyon_left_01.png\")\n",
    "\n",
    "# show images\n",
    "cv2.imshow(\"Image A\", imageA)\n",
    "cv2.waitKey(0)\n",
    "cv2.destroyWindow()\n",
    "cv2.destroyAllWindows()\n",
    "print(\"bye!\")"
   ]
  }
 ],
 "metadata": {
  "kernelspec": {
   "display_name": "Python 3",
   "language": "python",
   "name": "python3"
  },
  "language_info": {
   "codemirror_mode": {
    "name": "ipython",
    "version": 3
   },
   "file_extension": ".py",
   "mimetype": "text/x-python",
   "name": "python",
   "nbconvert_exporter": "python",
   "pygments_lexer": "ipython3",
   "version": "3.5.3"
  }
 },
 "nbformat": 4,
 "nbformat_minor": 2
}
