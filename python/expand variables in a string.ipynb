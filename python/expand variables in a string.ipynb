{
 "cells": [
  {
   "cell_type": "markdown",
   "metadata": {},
   "source": [
    "### Expand variables in a string\n",
    "Two types of variables:\n",
    "* **App variables**: They begin with *'_'*: _year, _month, _sport, feed an so forth.\n",
    "* **Custom variables**: They need to be declared previusly."
   ]
  },
  {
   "cell_type": "code",
   "execution_count": 78,
   "metadata": {},
   "outputs": [
    {
     "name": "stdout",
     "output_type": "stream",
     "text": [
      "custom variables: ['custom1', 'custom2']\n",
      "app variables: ['_sport', '_year', '_month']\n"
     ]
    }
   ],
   "source": [
    "import re\n",
    "uri = \"d:/atvrecordings/{_sport}/{_year}/{_month}/{custom1}/{custom2}\"\n",
    "\n",
    "# extract 'Custom variables' list\n",
    "variables_custom = re.findall(r\"{([^_]\\w+)}\", uri)\n",
    "print(\"custom variables: {}\".format(variables_custom))\n",
    "\n",
    "# extract 'App variables' list\n",
    "variables_app = re.findall(r\"{(_\\w+)}\", uri)\n",
    "print(\"app variables: {}\".format(variables_app))"
   ]
  },
  {
   "cell_type": "code",
   "execution_count": 79,
   "metadata": {},
   "outputs": [
    {
     "name": "stdout",
     "output_type": "stream",
     "text": [
      "d:/atvrecordings/{_sport}/{_year}/{_month}/{custom1}/{custom2}\n",
      "d:/atvrecordings/basketball/2017/May/582edec3d378e2000d6cf1ff/hola\n"
     ]
    }
   ],
   "source": [
    "# expand variables\n",
    "_sport = \"basketball\"\n",
    "_year = \"2017\"\n",
    "_month = \"May\"\n",
    "custom1 = \"582edec3d378e2000d6cf1ff\"\n",
    "print(uri)\n",
    "print(uri.format(**locals()))"
   ]
  }
 ],
 "metadata": {
  "kernelspec": {
   "display_name": "Python 2",
   "language": "python",
   "name": "python2"
  },
  "language_info": {
   "codemirror_mode": {
    "name": "ipython",
    "version": 2
   },
   "file_extension": ".py",
   "mimetype": "text/x-python",
   "name": "python",
   "nbconvert_exporter": "python",
   "pygments_lexer": "ipython2",
   "version": "2.7.13"
  }
 },
 "nbformat": 4,
 "nbformat_minor": 2
}
