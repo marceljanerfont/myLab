{
 "cells": [
  {
   "cell_type": "markdown",
   "metadata": {},
   "source": [
    "## Linear regression with scikit-learn\n",
    "\n",
    "https://github.com/llSourcell/linear_regression_demo\n",
    "\n",
    "We predict Body weight given Brain weight\n",
    "\n",
    "### Load dataset"
   ]
  },
  {
   "cell_type": "code",
   "execution_count": 58,
   "metadata": {},
   "outputs": [
    {
     "data": {
      "text/html": [
       "<div>\n",
       "<style>\n",
       "    .dataframe thead tr:only-child th {\n",
       "        text-align: right;\n",
       "    }\n",
       "\n",
       "    .dataframe thead th {\n",
       "        text-align: left;\n",
       "    }\n",
       "\n",
       "    .dataframe tbody tr th {\n",
       "        vertical-align: top;\n",
       "    }\n",
       "</style>\n",
       "<table border=\"1\" class=\"dataframe\">\n",
       "  <thead>\n",
       "    <tr style=\"text-align: right;\">\n",
       "      <th></th>\n",
       "      <th>0</th>\n",
       "      <th>1</th>\n",
       "      <th>2</th>\n",
       "      <th>3</th>\n",
       "      <th>4</th>\n",
       "      <th>5</th>\n",
       "      <th>6</th>\n",
       "      <th>7</th>\n",
       "      <th>8</th>\n",
       "      <th>9</th>\n",
       "      <th>...</th>\n",
       "      <th>52</th>\n",
       "      <th>53</th>\n",
       "      <th>54</th>\n",
       "      <th>55</th>\n",
       "      <th>56</th>\n",
       "      <th>57</th>\n",
       "      <th>58</th>\n",
       "      <th>59</th>\n",
       "      <th>60</th>\n",
       "      <th>61</th>\n",
       "    </tr>\n",
       "  </thead>\n",
       "  <tbody>\n",
       "    <tr>\n",
       "      <th>Brain</th>\n",
       "      <td>3.385</td>\n",
       "      <td>0.48</td>\n",
       "      <td>1.35</td>\n",
       "      <td>465.0</td>\n",
       "      <td>36.33</td>\n",
       "      <td>27.66</td>\n",
       "      <td>14.83</td>\n",
       "      <td>1.04</td>\n",
       "      <td>4.19</td>\n",
       "      <td>0.425</td>\n",
       "      <td>...</td>\n",
       "      <td>0.075</td>\n",
       "      <td>0.122</td>\n",
       "      <td>0.048</td>\n",
       "      <td>192.0</td>\n",
       "      <td>3.0</td>\n",
       "      <td>160.0</td>\n",
       "      <td>0.9</td>\n",
       "      <td>1.62</td>\n",
       "      <td>0.104</td>\n",
       "      <td>4.235</td>\n",
       "    </tr>\n",
       "    <tr>\n",
       "      <th>Body</th>\n",
       "      <td>44.500</td>\n",
       "      <td>15.50</td>\n",
       "      <td>8.10</td>\n",
       "      <td>423.0</td>\n",
       "      <td>119.50</td>\n",
       "      <td>115.00</td>\n",
       "      <td>98.20</td>\n",
       "      <td>5.50</td>\n",
       "      <td>58.00</td>\n",
       "      <td>6.400</td>\n",
       "      <td>...</td>\n",
       "      <td>1.200</td>\n",
       "      <td>3.000</td>\n",
       "      <td>0.330</td>\n",
       "      <td>180.0</td>\n",
       "      <td>25.0</td>\n",
       "      <td>169.0</td>\n",
       "      <td>2.6</td>\n",
       "      <td>11.40</td>\n",
       "      <td>2.500</td>\n",
       "      <td>50.400</td>\n",
       "    </tr>\n",
       "  </tbody>\n",
       "</table>\n",
       "<p>2 rows × 62 columns</p>\n",
       "</div>"
      ],
      "text/plain": [
       "           0      1     2      3       4       5      6     7      8      9   \\\n",
       "Brain   3.385   0.48  1.35  465.0   36.33   27.66  14.83  1.04   4.19  0.425   \n",
       "Body   44.500  15.50  8.10  423.0  119.50  115.00  98.20  5.50  58.00  6.400   \n",
       "\n",
       "        ...       52     53     54     55    56     57   58     59     60  \\\n",
       "Brain   ...    0.075  0.122  0.048  192.0   3.0  160.0  0.9   1.62  0.104   \n",
       "Body    ...    1.200  3.000  0.330  180.0  25.0  169.0  2.6  11.40  2.500   \n",
       "\n",
       "           61  \n",
       "Brain   4.235  \n",
       "Body   50.400  \n",
       "\n",
       "[2 rows x 62 columns]"
      ]
     },
     "execution_count": 58,
     "metadata": {},
     "output_type": "execute_result"
    }
   ],
   "source": [
    "import pandas as pd\n",
    "import numpy as np\n",
    "from sklearn import linear_model\n",
    "%matplotlib inline\n",
    "import matplotlib.pyplot as plt\n",
    "\n",
    "#read data\n",
    "df = pd.read_fwf('datasets/brain_body.txt')\n",
    "x_values = df['Brain']\n",
    "y_values = df['Body']\n",
    "df.T"
   ]
  },
  {
   "cell_type": "code",
   "execution_count": 59,
   "metadata": {},
   "outputs": [
    {
     "name": "stdout",
     "output_type": "stream",
     "text": [
      "len(x)=62, len(y)=62\n"
     ]
    },
    {
     "data": {
      "image/png": "[encoded data removed]",
      "text/plain": [
       "<matplotlib.figure.Figure at 0x11c8a6650>"
      ]
     },
     "metadata": {},
     "output_type": "display_data"
    }
   ],
   "source": [
    "plt.figure(1, figsize=(15, 7))\n",
    "plt.plot(x_values, y_values, 'bo')\n",
    "print('len(x)={}, len(y)={}'.format(len(x_values), len(y_values)))\n",
    "plt.xlabel('Brain weight')\n",
    "plt.ylabel('Body weight')\n",
    "plt.show()"
   ]
  },
  {
   "cell_type": "markdown",
   "metadata": {},
   "source": [
    "### Train model on data"
   ]
  },
  {
   "cell_type": "code",
   "execution_count": 60,
   "metadata": {},
   "outputs": [
    {
     "data": {
      "text/plain": [
       "array([  3.38500000e+00,   4.80000000e-01,   1.35000000e+00,\n",
       "         4.65000000e+02,   3.63300000e+01,   2.76600000e+01,\n",
       "         1.48300000e+01,   1.04000000e+00,   4.19000000e+00,\n",
       "         4.25000000e-01,   1.01000000e-01,   9.20000000e-01,\n",
       "         1.00000000e+00,   5.00000000e-03,   6.00000000e-02,\n",
       "         3.50000000e+00,   2.00000000e+00,   1.70000000e+00,\n",
       "         2.54700000e+03,   2.30000000e-02,   1.87100000e+02,\n",
       "         5.21000000e+02,   7.85000000e-01,   1.00000000e+01,\n",
       "         3.30000000e+00,   2.00000000e-01,   1.41000000e+00,\n",
       "         5.29000000e+02,   2.07000000e+02,   8.50000000e+01,\n",
       "         7.50000000e-01,   6.20000000e+01,   6.65400000e+03,\n",
       "         3.50000000e+00,   6.80000000e+00,   3.50000000e+01,\n",
       "         4.05000000e+00,   1.20000000e-01,   2.30000000e-02,\n",
       "         1.00000000e-02,   1.40000000e+00,   2.50000000e+02,\n",
       "         2.50000000e+00,   5.55000000e+01,   1.00000000e+02,\n",
       "         5.21600000e+01,   1.05500000e+01,   5.50000000e-01,\n",
       "         6.00000000e+01,   3.60000000e+00,   4.28800000e+00,\n",
       "         2.80000000e-01,   7.50000000e-02,   1.22000000e-01,\n",
       "         4.80000000e-02,   1.92000000e+02,   3.00000000e+00,\n",
       "         1.60000000e+02,   9.00000000e-01,   1.62000000e+00,\n",
       "         1.04000000e-01,   4.23500000e+00])"
      ]
     },
     "execution_count": 60,
     "metadata": {},
     "output_type": "execute_result"
    }
   ],
   "source": [
    "x_values.values\n",
    "# 1 row N cols"
   ]
  },
  {
   "cell_type": "code",
   "execution_count": 61,
   "metadata": {},
   "outputs": [
    {
     "data": {
      "text/plain": [
       "array([[  3.38500000e+00],\n",
       "       [  4.80000000e-01],\n",
       "       [  1.35000000e+00],\n",
       "       [  4.65000000e+02],\n",
       "       [  3.63300000e+01],\n",
       "       [  2.76600000e+01],\n",
       "       [  1.48300000e+01],\n",
       "       [  1.04000000e+00],\n",
       "       [  4.19000000e+00],\n",
       "       [  4.25000000e-01],\n",
       "       [  1.01000000e-01],\n",
       "       [  9.20000000e-01],\n",
       "       [  1.00000000e+00],\n",
       "       [  5.00000000e-03],\n",
       "       [  6.00000000e-02],\n",
       "       [  3.50000000e+00],\n",
       "       [  2.00000000e+00],\n",
       "       [  1.70000000e+00],\n",
       "       [  2.54700000e+03],\n",
       "       [  2.30000000e-02],\n",
       "       [  1.87100000e+02],\n",
       "       [  5.21000000e+02],\n",
       "       [  7.85000000e-01],\n",
       "       [  1.00000000e+01],\n",
       "       [  3.30000000e+00],\n",
       "       [  2.00000000e-01],\n",
       "       [  1.41000000e+00],\n",
       "       [  5.29000000e+02],\n",
       "       [  2.07000000e+02],\n",
       "       [  8.50000000e+01],\n",
       "       [  7.50000000e-01],\n",
       "       [  6.20000000e+01],\n",
       "       [  6.65400000e+03],\n",
       "       [  3.50000000e+00],\n",
       "       [  6.80000000e+00],\n",
       "       [  3.50000000e+01],\n",
       "       [  4.05000000e+00],\n",
       "       [  1.20000000e-01],\n",
       "       [  2.30000000e-02],\n",
       "       [  1.00000000e-02],\n",
       "       [  1.40000000e+00],\n",
       "       [  2.50000000e+02],\n",
       "       [  2.50000000e+00],\n",
       "       [  5.55000000e+01],\n",
       "       [  1.00000000e+02],\n",
       "       [  5.21600000e+01],\n",
       "       [  1.05500000e+01],\n",
       "       [  5.50000000e-01],\n",
       "       [  6.00000000e+01],\n",
       "       [  3.60000000e+00],\n",
       "       [  4.28800000e+00],\n",
       "       [  2.80000000e-01],\n",
       "       [  7.50000000e-02],\n",
       "       [  1.22000000e-01],\n",
       "       [  4.80000000e-02],\n",
       "       [  1.92000000e+02],\n",
       "       [  3.00000000e+00],\n",
       "       [  1.60000000e+02],\n",
       "       [  9.00000000e-01],\n",
       "       [  1.62000000e+00],\n",
       "       [  1.04000000e-01],\n",
       "       [  4.23500000e+00]])"
      ]
     },
     "execution_count": 61,
     "metadata": {},
     "output_type": "execute_result"
    }
   ],
   "source": [
    "# Does the same than x_values.values[:, np.newaxis]\n",
    "x_values.values.reshape(-1, 1)\n",
    "# N rows 1 col"
   ]
  },
  {
   "cell_type": "code",
   "execution_count": 62,
   "metadata": {},
   "outputs": [
    {
     "data": {
      "text/plain": [
       "array([   94.27598641,    91.46831446,    92.3091663 ,   540.42520718,\n",
       "         126.11720924,   117.73768574,   105.33753734,    92.00955243,\n",
       "          95.05401599,    91.41515716,    91.10201234,    91.89357287,\n",
       "          91.97089258,    91.00922869,    91.06238599,    94.38713349,\n",
       "          92.93738894,    92.64744003,  2552.67064467,    91.02662562,\n",
       "         271.8358666 ,   594.54900376,    91.76309586,   100.66935988,\n",
       "          94.19383422,    91.19769548,    92.36715609,   602.28097471,\n",
       "         291.06914432,   173.15658746,    91.72926848,   150.927171  ,\n",
       "        6522.0712267 ,    94.38713349,    97.57657151,   124.83176908,\n",
       "          94.9187065 ,    91.12037577,    91.02662562,    91.01406117,\n",
       "          92.35749112,   332.62848813,    93.42063713,   144.64494461,\n",
       "         187.65403297,   141.41684675,   101.20093289,    91.53596921,\n",
       "         148.99417827,    94.48378313,    95.14873263,    91.27501519,\n",
       "          91.07688343,    91.12230876,    91.05078803,   276.5716988 ,\n",
       "          93.90388531,   245.64381504,    91.87424294,    92.57012032,\n",
       "          91.10491183,    95.09750832])"
      ]
     },
     "execution_count": 62,
     "metadata": {},
     "output_type": "execute_result"
    }
   ],
   "source": [
    "body_reg = linear_model.LinearRegression()\n",
    "body_reg.fit(x_values.values.reshape(-1, 1), y_values.values)\n",
    "predicted_y = body_reg.predict(x_values.values.reshape(-1, 1))\n",
    "predicted_y\n"
   ]
  },
  {
   "cell_type": "code",
   "execution_count": 55,
   "metadata": {},
   "outputs": [
    {
     "name": "stdout",
     "output_type": "stream",
     "text": [
      "len(x)=62, len(y)=62\n"
     ]
    },
    {
     "data": {
      "image/png": "[encoded data removed]",
      "text/plain": [
       "<matplotlib.figure.Figure at 0x11c8f6a50>"
      ]
     },
     "metadata": {},
     "output_type": "display_data"
    }
   ],
   "source": [
    "plt.figure(1, figsize=(15, 7))\n",
    "plt.plot(x_values, y_values, 'bo', x_values, predicted_y, 'r')\n",
    "print('len(x)={}, len(y)={}'.format(len(x_values), len(y_values)))\n",
    "plt.xlabel('Brain weight')\n",
    "plt.ylabel('Body weight')\n",
    "plt.show()"
   ]
  },
  {
   "cell_type": "code",
   "execution_count": null,
   "metadata": {
    "collapsed": true
   },
   "outputs": [],
   "source": []
  }
 ],
 "metadata": {
  "kernelspec": {
   "display_name": "Python 2",
   "language": "python",
   "name": "python2"
  },
  "language_info": {
   "codemirror_mode": {
    "name": "ipython",
    "version": 2
   },
   "file_extension": ".py",
   "mimetype": "text/x-python",
   "name": "python",
   "nbconvert_exporter": "python",
   "pygments_lexer": "ipython2",
   "version": "2.7.13"
  }
 },
 "nbformat": 4,
 "nbformat_minor": 2
}
